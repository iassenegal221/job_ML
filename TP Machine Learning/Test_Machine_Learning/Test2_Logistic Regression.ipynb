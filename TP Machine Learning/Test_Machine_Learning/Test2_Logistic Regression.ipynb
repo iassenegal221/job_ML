{
 "cells": [
  {
   "cell_type": "markdown",
   "metadata": {},
   "source": [
    "# Formation Institut des Algorithmes du Sénégal : test final\n",
    "\n",
    "\n",
    "# Logistic Regression Project - Solutions\n",
    "\n",
    "Dans ce projet, vous travaillerez avec des données publicitaires, indiquant si un internaute particulier a cliqué ou non sur une publicité sur le site Web d'une entreprise. Vous essaierez de créer un modèle qui prédira s'il cliquera ou non sur une annonce en fonction des caractéristiques de cet utilisateur.\n",
    "\n",
    "Ci-dessous la description des variables que contient le jeu de données:\n",
    "\n",
    "* 'Daily Time Spent on Site': consumer time on site in minutes\n",
    "* 'Age': cutomer age in years\n",
    "* 'Area Income': Avg. Income of geographical area of consumer\n",
    "* 'Daily Internet Usage': Avg. minutes a day consumer is on the internet\n",
    "* 'Ad Topic Line': Headline of the advertisement\n",
    "* 'City': City of consumer\n",
    "* 'Male': Whether or not consumer was male\n",
    "* 'Country': Country of consumer\n",
    "* 'Timestamp': Time at which consumer clicked on Ad or closed window\n",
    "* 'Clicked on Ad': 0 or 1 indicated clicking on Ad\n",
    "\n",
    "## Initialisation\n",
    "\n",
    "**- Importez toutes les libraries dont vous jugez nécessaires**"
   ]
  },
  {
   "cell_type": "code",
   "execution_count": 1,
   "metadata": {
    "execution": {
     "iopub.execute_input": "2022-03-16T16:14:10.657009Z",
     "iopub.status.busy": "2022-03-16T16:14:10.656391Z",
     "iopub.status.idle": "2022-03-16T16:14:11.115170Z",
     "shell.execute_reply": "2022-03-16T16:14:11.114552Z",
     "shell.execute_reply.started": "2022-03-16T16:14:10.656935Z"
    }
   },
   "outputs": [],
   "source": [
    "## Importez les libraries\n",
    "..."
   ]
  },
  {
   "cell_type": "markdown",
   "metadata": {},
   "source": [
    "## Chargement des données\n",
    "- Chargez les données contenues dans le répertoire dataset/advertising.csv"
   ]
  },
  {
   "cell_type": "code",
   "execution_count": 3,
   "metadata": {
    "collapsed": false,
    "execution": {
     "iopub.execute_input": "2022-03-16T16:14:24.780892Z",
     "iopub.status.busy": "2022-03-16T16:14:24.780541Z",
     "iopub.status.idle": "2022-03-16T16:14:24.784487Z",
     "shell.execute_reply": "2022-03-16T16:14:24.783665Z",
     "shell.execute_reply.started": "2022-03-16T16:14:24.780862Z"
    },
    "jupyter": {
     "outputs_hidden": false
    }
   },
   "outputs": [],
   "source": [
    "## Load data"
   ]
  },
  {
   "cell_type": "markdown",
   "metadata": {},
   "source": [
    "- Faite l'exploration et le néttoyage des données\n",
    "    - Afficher le nombre de lignes/colonnes\n",
    "    - Afficher les 100 dernières valeurs du dataframe\n",
    "    - Visualisez des graphiques/diagrammes en barre..."
   ]
  },
  {
   "cell_type": "markdown",
   "metadata": {},
   "source": [
    "# Logistic Regression\n",
    "Il est temps maintenant d'entrainer votre modèle de régression logistique\n"
   ]
  },
  {
   "cell_type": "markdown",
   "metadata": {},
   "source": [
    "- Split the data into training set and testing set using train_test_split"
   ]
  },
  {
   "cell_type": "code",
   "execution_count": 85,
   "metadata": {
    "collapsed": true,
    "jupyter": {
     "outputs_hidden": true
    }
   },
   "outputs": [],
   "source": [
    "from sklearn.model_selection import train_test_split"
   ]
  },
  {
   "cell_type": "code",
   "execution_count": 88,
   "metadata": {
    "collapsed": false,
    "jupyter": {
     "outputs_hidden": false
    }
   },
   "outputs": [],
   "source": [
    "X = ### Complétez\n",
    "y = ad_data['Clicked on Ad']"
   ]
  },
  {
   "cell_type": "code",
   "execution_count": 89,
   "metadata": {},
   "outputs": [],
   "source": [
    "X_train, X_test, y_train, y_test = train_test_split(X, y, test_size=0.33, random_state=42)"
   ]
  },
  {
   "cell_type": "markdown",
   "metadata": {},
   "source": [
    "- Train and fit a logistic regression model on the training set"
   ]
  },
  {
   "cell_type": "code",
   "execution_count": 91,
   "metadata": {
    "collapsed": true,
    "jupyter": {
     "outputs_hidden": true
    }
   },
   "outputs": [],
   "source": [
    "from sklearn.linear_model import LogisticRegression"
   ]
  },
  {
   "cell_type": "code",
   "execution_count": null,
   "metadata": {
    "collapsed": false,
    "jupyter": {
     "outputs_hidden": false
    }
   },
   "outputs": [],
   "source": [
    "logmodel = LogisticRegression()\n",
    "logmodel.fit(....)## Complétez"
   ]
  },
  {
   "cell_type": "markdown",
   "metadata": {},
   "source": [
    "## évaluation de la prédiction\n",
    "\n",
    "- Utilisez la fonction predict() pour prédire sur le jeu de données X_test"
   ]
  },
  {
   "cell_type": "code",
   "execution_count": 94,
   "metadata": {
    "collapsed": false,
    "jupyter": {
     "outputs_hidden": false
    }
   },
   "outputs": [],
   "source": [
    "predictions = logmodel...## Complétez"
   ]
  },
  {
   "cell_type": "markdown",
   "metadata": {},
   "source": [
    "- Créer une matrice de report de la classification"
   ]
  },
  {
   "cell_type": "code",
   "execution_count": 95,
   "metadata": {
    "collapsed": true,
    "jupyter": {
     "outputs_hidden": true
    }
   },
   "outputs": [],
   "source": [
    "from sklearn.metrics import classification_report"
   ]
  },
  {
   "cell_type": "code",
   "execution_count": 96,
   "metadata": {
    "collapsed": false,
    "jupyter": {
     "outputs_hidden": false
    }
   },
   "outputs": [
    {
     "name": "stdout",
     "output_type": "stream",
     "text": [
      "             precision    recall  f1-score   support\n",
      "\n",
      "          0       0.87      0.96      0.91       162\n",
      "          1       0.96      0.86      0.91       168\n",
      "\n",
      "avg / total       0.91      0.91      0.91       330\n",
      "\n"
     ]
    }
   ],
   "source": [
    "print(classification_report(y_test,predictions))"
   ]
  },
  {
   "cell_type": "markdown",
   "metadata": {},
   "source": [
    "## Conclure : \n",
    "- Commentez les résultats de ce tableau. Ce modèle de régression logistique est-il bon pour prédire la variable cible ? Pourqou ?"
   ]
  },
  {
   "cell_type": "code",
   "execution_count": null,
   "metadata": {},
   "outputs": [],
   "source": []
  }
 ],
 "metadata": {
  "kernelspec": {
   "display_name": "Python 3 (ipykernel)",
   "language": "python",
   "name": "python3"
  },
  "language_info": {
   "codemirror_mode": {
    "name": "ipython",
    "version": 3
   },
   "file_extension": ".py",
   "mimetype": "text/x-python",
   "name": "python",
   "nbconvert_exporter": "python",
   "pygments_lexer": "ipython3",
   "version": "3.8.11"
  }
 },
 "nbformat": 4,
 "nbformat_minor": 4
}
