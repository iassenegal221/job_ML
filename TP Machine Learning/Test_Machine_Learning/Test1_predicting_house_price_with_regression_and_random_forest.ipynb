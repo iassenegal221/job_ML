{
 "cells": [
  {
   "cell_type": "markdown",
   "metadata": {},
   "source": [
    "# House Price Prediction with Regression and Random Forest"
   ]
  },
  {
   "cell_type": "markdown",
   "metadata": {},
   "source": [
    "L'objectif de ce projet est de prédire les prix des logements à l'aide d'un algorithme d'apprentissage automatique de base, la régression linéaire, et d'un algorithme avancé, Random Forest. Vous utiliserez également la régression avec régularisation telle que Ridge et Lasso pour essayer d'améliorer la précision de nos prédictions.\n",
    "\n",
    "Les ensembles de données Kaggle House Prices peuvent être téléchargés [here](https://www.kaggle.com/c/house-prices-advanced-regression-techniques/). "
   ]
  },
  {
   "cell_type": "markdown",
   "metadata": {},
   "source": [
    "# Partie A : Initialisation\n",
    "\n",
    "- Importez les libraries nécéssaire\n",
    "\n",
    "NB: s'il y a une librairie non disponible, il faut l'installer"
   ]
  },
  {
   "cell_type": "code",
   "execution_count": 2,
   "metadata": {
    "execution": {
     "iopub.execute_input": "2022-03-16T15:27:27.000729Z",
     "iopub.status.busy": "2022-03-16T15:27:27.000390Z",
     "iopub.status.idle": "2022-03-16T15:27:28.298298Z",
     "shell.execute_reply": "2022-03-16T15:27:28.297636Z",
     "shell.execute_reply.started": "2022-03-16T15:27:27.000700Z"
    }
   },
   "outputs": [],
   "source": [
    "import pandas as pd\n",
    "import numpy as np\n",
    "\n",
    "from matplotlib import pyplot as plt\n",
    "import seaborn as sns\n",
    "%matplotlib inline\n",
    "\n",
    "from sklearn.linear_model import LinearRegression, Ridge, Lasso\n",
    "from sklearn.ensemble import RandomForestRegressor\n",
    "from sklearn.model_selection import cross_val_score, train_test_split, GridSearchCV\n",
    "\n",
    "\n",
    "from sklearn import datasets, linear_model\n",
    "from sklearn.metrics import mean_squared_error\n",
    "\n",
    "from sklearn.preprocessing import PolynomialFeatures, StandardScaler, scale, MinMaxScaler\n",
    "from sklearn.linear_model import LinearRegression, Ridge, Lasso, RidgeCV, LassoCV\n",
    "from sklearn.model_selection import cross_val_score, KFold, train_test_split, StratifiedKFold, GridSearchCV\n",
    "from sklearn.ensemble import RandomForestRegressor"
   ]
  },
  {
   "cell_type": "markdown",
   "metadata": {},
   "source": [
    "# Partie B: Exploration des données\n",
    "\n",
    "Dans le dossier dataset, vous avez deux fichiers :\n",
    "- Un fichier dénommé  train.csv\n",
    "- Un fichier dénommé  test.csv\n",
    "\n",
    "Utilisez la librarie pandas pour charger chacun de ces fichiers dans un dataframe.\n",
    "\n",
    "- Pour le fichier train.csv, utilisez la variable df pour le charger dans un datfarme\n",
    "\n",
    "- Pour le fichier test.csv, utilisez la variable test_df pour le charger dans un dataframe"
   ]
  },
  {
   "cell_type": "code",
   "execution_count": 3,
   "metadata": {
    "execution": {
     "iopub.execute_input": "2022-03-16T15:27:29.755133Z",
     "iopub.status.busy": "2022-03-16T15:27:29.754895Z",
     "iopub.status.idle": "2022-03-16T15:27:29.820859Z",
     "shell.execute_reply": "2022-03-16T15:27:29.820137Z",
     "shell.execute_reply.started": "2022-03-16T15:27:29.755109Z"
    }
   },
   "outputs": [],
   "source": [
    "df = ...## Complétez\n",
    "test_df = ...## Complétez"
   ]
  },
  {
   "cell_type": "markdown",
   "metadata": {},
   "source": [
    "- Quelle est la fonction qui permet de charger un fichier csv ? \n",
    "\n",
    "- Quelle fonction vous permet d'afficher  le nombre de ligne dans le dataframe ? \n",
    "\n",
    "- Quelle fonction vous permet d'afficher  le nombre de colonnes dans le dataframe ? \n",
    "\n",
    "- Que fait la fonction .head() de la librairie pandas ? \n",
    "\n",
    "- Appellez toutes les fonctions précédentes et affichez leurs sorties"
   ]
  },
  {
   "cell_type": "code",
   "execution_count": 4,
   "metadata": {
    "execution": {
     "iopub.execute_input": "2022-03-16T15:28:15.878238Z",
     "iopub.status.busy": "2022-03-16T15:28:15.877917Z",
     "iopub.status.idle": "2022-03-16T15:28:15.881600Z",
     "shell.execute_reply": "2022-03-16T15:28:15.880903Z",
     "shell.execute_reply.started": "2022-03-16T15:28:15.878210Z"
    }
   },
   "outputs": [],
   "source": [
    "## Appellez les focntion ci-dessus"
   ]
  },
  {
   "cell_type": "markdown",
   "metadata": {},
   "source": [
    "- Que font les lignes de code ci-dessous ? Commentez-les ainsi que le résulat."
   ]
  },
  {
   "cell_type": "code",
   "execution_count": 7,
   "metadata": {
    "execution": {
     "iopub.execute_input": "2022-03-16T15:31:17.547285Z",
     "iopub.status.busy": "2022-03-16T15:31:17.546776Z",
     "iopub.status.idle": "2022-03-16T15:31:17.565859Z",
     "shell.execute_reply": "2022-03-16T15:31:17.565318Z",
     "shell.execute_reply.started": "2022-03-16T15:31:17.547258Z"
    }
   },
   "outputs": [],
   "source": [
    "df.isnull().sum()                                                     \n",
    "miss_val = df.isnull().sum().sort_values(ascending=False)\n",
    "miss_val = pd.DataFrame(data=df.isnull().sum().sort_values(ascending=False), columns=['MissvalCount'])\n",
    "\n",
    "miss_val['Percent'] = miss_val.MissvalCount.apply(lambda x : '{:.2f}'.format(float(x)/df.shape[0] * 100)) \n",
    "miss_val = miss_val[miss_val.MissvalCount > 0]\n"
   ]
  },
  {
   "cell_type": "markdown",
   "metadata": {},
   "source": [
    "- Supprimez toutes les colonnes ayant plus de 45% de valeurs manquantes"
   ]
  },
  {
   "cell_type": "code",
   "execution_count": 8,
   "metadata": {
    "execution": {
     "iopub.execute_input": "2022-03-16T15:33:30.806646Z",
     "iopub.status.busy": "2022-03-16T15:33:30.806028Z",
     "iopub.status.idle": "2022-03-16T15:33:30.811269Z",
     "shell.execute_reply": "2022-03-16T15:33:30.810690Z",
     "shell.execute_reply.started": "2022-03-16T15:33:30.806619Z"
    }
   },
   "outputs": [],
   "source": [
    "# suppression de colonnes\n",
    "df = df.###complétez"
   ]
  },
  {
   "cell_type": "markdown",
   "metadata": {},
   "source": [
    "- Supprimez les lignes ayant au moins une valeur manquante"
   ]
  },
  {
   "cell_type": "code",
   "execution_count": 9,
   "metadata": {
    "execution": {
     "iopub.execute_input": "2022-03-16T15:33:41.426964Z",
     "iopub.status.busy": "2022-03-16T15:33:41.426442Z",
     "iopub.status.idle": "2022-03-16T15:33:41.436041Z",
     "shell.execute_reply": "2022-03-16T15:33:41.435352Z",
     "shell.execute_reply.started": "2022-03-16T15:33:41.426937Z"
    }
   },
   "outputs": [],
   "source": [
    "# ligne avec valeur manquante\n",
    "df.dropna###Compléter"
   ]
  },
  {
   "cell_type": "markdown",
   "metadata": {},
   "source": [
    "# Explore data"
   ]
  },
  {
   "cell_type": "markdown",
   "metadata": {},
   "source": [
    "- Examinez la distribution de la variable SalePrice. s'agit-elle d'une distribution normale ? \n",
    "\n",
    "NB: pour examiner la distribution, il faut visualiser la courbe de distribution en utilisant la fonction sns.distplot(). voir la documentation [ici](https://seaborn.pydata.org/generated/seaborn.distplot.html)"
   ]
  },
  {
   "cell_type": "code",
   "execution_count": 10,
   "metadata": {
    "execution": {
     "iopub.execute_input": "2022-03-16T15:36:46.658875Z",
     "iopub.status.busy": "2022-03-16T15:36:46.658128Z",
     "iopub.status.idle": "2022-03-16T15:36:46.661695Z",
     "shell.execute_reply": "2022-03-16T15:36:46.661106Z",
     "shell.execute_reply.started": "2022-03-16T15:36:46.658838Z"
    }
   },
   "outputs": [],
   "source": [
    "# Check distribution of target variable"
   ]
  },
  {
   "cell_type": "markdown",
   "metadata": {},
   "source": [
    "- En utilisant la fonction np.log(), transformez les valeurs dans df['LogOfPrice'] en valeurs logarithmiques. \n",
    "\n",
    "NB: Il faut commencer par calculer la log des valeurs, ensuite remplacer les veleurs de df['LogOfPrice'] par le résultat, en déclarant une nouvelle colonne nommée 'LogOfPrice' et en supprimant la colonne 'SalePrice'"
   ]
  },
  {
   "cell_type": "code",
   "execution_count": 11,
   "metadata": {
    "execution": {
     "iopub.execute_input": "2022-03-16T15:40:42.905598Z",
     "iopub.status.busy": "2022-03-16T15:40:42.904874Z",
     "iopub.status.idle": "2022-03-16T15:40:42.911996Z",
     "shell.execute_reply": "2022-03-16T15:40:42.911347Z",
     "shell.execute_reply.started": "2022-03-16T15:40:42.905567Z"
    }
   },
   "outputs": [],
   "source": [
    "df['LogOfPrice'] = np.log### compléter\n",
    "df.drop()##Compléter"
   ]
  },
  {
   "cell_type": "markdown",
   "metadata": {
    "execution": {
     "iopub.execute_input": "2022-03-16T15:41:14.935032Z",
     "iopub.status.busy": "2022-03-16T15:41:14.934432Z",
     "iopub.status.idle": "2022-03-16T15:41:14.938812Z",
     "shell.execute_reply": "2022-03-16T15:41:14.938032Z",
     "shell.execute_reply.started": "2022-03-16T15:41:14.935006Z"
    }
   },
   "source": [
    "- Que fait la ligne de code ci-dessous ? Commentez"
   ]
  },
  {
   "cell_type": "code",
   "execution_count": 13,
   "metadata": {
    "execution": {
     "iopub.execute_input": "2022-03-16T15:41:20.917927Z",
     "iopub.status.busy": "2022-03-16T15:41:20.917448Z",
     "iopub.status.idle": "2022-03-16T15:41:20.931732Z",
     "shell.execute_reply": "2022-03-16T15:41:20.931135Z",
     "shell.execute_reply.started": "2022-03-16T15:41:20.917882Z"
    }
   },
   "outputs": [
    {
     "name": "stderr",
     "output_type": "stream",
     "text": [
      "/tmp/ipykernel_17362/1065359015.py:2: FutureWarning: Dropping of nuisance columns in DataFrame reductions (with 'numeric_only=None') is deprecated; in a future version this will raise TypeError.  Select only valid columns before calling the reduction.\n",
      "  df.skew().sort_values(ascending=False)\n"
     ]
    },
    {
     "data": {
      "text/plain": [
       "LotArea          15.508309\n",
       "PoolArea         13.614615\n",
       "3SsnPorch        11.069793\n",
       "LowQualFinSF      9.896145\n",
       "MiscVal           9.673292\n",
       "KitchenAbvGr      5.587741\n",
       "BsmtFinSF2        4.372440\n",
       "BsmtHalfBath      4.049639\n",
       "ScreenPorch       3.962075\n",
       "EnclosedPorch     3.165433\n",
       "MasVnrArea        2.695262\n",
       "OpenPorchSF       2.382985\n",
       "TotalBsmtSF       2.314581\n",
       "LotFrontage       2.227272\n",
       "BsmtFinSF1        1.931425\n",
       "GrLivArea         1.553875\n",
       "WoodDeckSF        1.525006\n",
       "MSSubClass        1.428836\n",
       "1stFlrSF          1.371529\n",
       "BsmtUnfSF         0.884701\n",
       "OverallCond       0.862376\n",
       "2ndFlrSF          0.790156\n",
       "GarageArea        0.726787\n",
       "TotRmsAbvGrd      0.721070\n",
       "Fireplaces        0.629886\n",
       "HalfBath          0.607079\n",
       "BsmtFullBath      0.532962\n",
       "LogOfPrice        0.304486\n",
       "OverallQual       0.298295\n",
       "GarageCars        0.210251\n",
       "MoSold            0.168709\n",
       "YrSold            0.122460\n",
       "Id                0.020785\n",
       "FullBath          0.019856\n",
       "BedroomAbvGr      0.016689\n",
       "YearRemodAdd     -0.585271\n",
       "YearBuilt        -0.633765\n",
       "GarageYrBlt      -0.661044\n",
       "dtype: float64"
      ]
     },
     "execution_count": 13,
     "metadata": {},
     "output_type": "execute_result"
    }
   ],
   "source": [
    "# Review the skewness of each feature\n",
    "df.skew().sort_values(ascending=False)"
   ]
  },
  {
   "cell_type": "markdown",
   "metadata": {},
   "source": [
    "# Partie C : Train-Test Split dataset"
   ]
  },
  {
   "cell_type": "markdown",
   "metadata": {},
   "source": [
    "Avant de pouvoir commencer à modéliser les données, nous devons diviser l'ensemble de données en ensemble d'apprentissage et de test.\n",
    "\n",
    "- Commentez le plus clair possible les lignes de code ci-dessous"
   ]
  },
  {
   "cell_type": "code",
   "execution_count": 14,
   "metadata": {
    "execution": {
     "iopub.execute_input": "2022-03-16T15:43:33.869535Z",
     "iopub.status.busy": "2022-03-16T15:43:33.868899Z",
     "iopub.status.idle": "2022-03-16T15:43:33.875158Z",
     "shell.execute_reply": "2022-03-16T15:43:33.874670Z",
     "shell.execute_reply.started": "2022-03-16T15:43:33.869508Z"
    }
   },
   "outputs": [],
   "source": [
    "y = df.LogOfPrice  \n",
    "\n",
    "df_temp = df.select_dtypes(include=[\"int64\",\"float64\"]) \n",
    "X = df_temp.drop([\"LogOfPrice\"],axis=1)"
   ]
  },
  {
   "cell_type": "markdown",
   "metadata": {},
   "source": [
    "- Subdivisez le jeux de données en :\n",
    "\n",
    "- 75% de train\n",
    "- 25% de test\n",
    "\n",
    "NB: pour cela, utilisez la fonction train_test_split. Voir docummentation [ici](https://scikit-learn.org/stable/modules/generated/sklearn.model_selection.train_test_split.html)"
   ]
  },
  {
   "cell_type": "code",
   "execution_count": 16,
   "metadata": {
    "execution": {
     "iopub.execute_input": "2022-03-16T15:45:25.146521Z",
     "iopub.status.busy": "2022-03-16T15:45:25.145940Z",
     "iopub.status.idle": "2022-03-16T15:45:25.151755Z",
     "shell.execute_reply": "2022-03-16T15:45:25.151211Z",
     "shell.execute_reply.started": "2022-03-16T15:45:25.146494Z"
    }
   },
   "outputs": [],
   "source": [
    "# split the dataset into train and test sets\n",
    "X_train, X_test, y_train, y_test = ## Complétez"
   ]
  },
  {
   "cell_type": "markdown",
   "metadata": {},
   "source": [
    "# Partie D: Modélisation"
   ]
  },
  {
   "cell_type": "markdown",
   "metadata": {},
   "source": [
    "Dans cette partie, vous allez construire quatre modèles et évaluer leurs performances avec la métrique R-squared. "
   ]
  },
  {
   "cell_type": "markdown",
   "metadata": {},
   "source": [
    "- Régression linéaire : complétez les lignes de code ci-dessous"
   ]
  },
  {
   "cell_type": "code",
   "execution_count": 17,
   "metadata": {
    "execution": {
     "iopub.execute_input": "2022-03-16T15:47:34.491180Z",
     "iopub.status.busy": "2022-03-16T15:47:34.490534Z",
     "iopub.status.idle": "2022-03-16T15:47:34.575239Z",
     "shell.execute_reply": "2022-03-16T15:47:34.574175Z",
     "shell.execute_reply.started": "2022-03-16T15:47:34.491153Z"
    }
   },
   "outputs": [
    {
     "data": {
      "text/plain": [
       "LinearRegression()"
      ]
     },
     "execution_count": 17,
     "metadata": {},
     "output_type": "execute_result"
    }
   ],
   "source": [
    "lr = LinearRegression()\n",
    "# fit optimal linear regression line on training data, this performs gradient descent under the hood\n",
    "lr.fit(...)## Complétz"
   ]
  },
  {
   "cell_type": "code",
   "execution_count": 18,
   "metadata": {
    "execution": {
     "iopub.execute_input": "2022-03-16T15:47:45.980790Z",
     "iopub.status.busy": "2022-03-16T15:47:45.980252Z",
     "iopub.status.idle": "2022-03-16T15:47:45.988993Z",
     "shell.execute_reply": "2022-03-16T15:47:45.988079Z",
     "shell.execute_reply.started": "2022-03-16T15:47:45.980761Z"
    }
   },
   "outputs": [],
   "source": [
    "# given our model and our fit, predict y_values using X_test set\n",
    "yr_hat = lr.predict(....)## Complétez"
   ]
  },
  {
   "cell_type": "code",
   "execution_count": 20,
   "metadata": {
    "execution": {
     "iopub.execute_input": "2022-03-16T15:48:34.878444Z",
     "iopub.status.busy": "2022-03-16T15:48:34.877621Z",
     "iopub.status.idle": "2022-03-16T15:48:34.886908Z",
     "shell.execute_reply": "2022-03-16T15:48:34.886050Z",
     "shell.execute_reply.started": "2022-03-16T15:48:34.878395Z"
    }
   },
   "outputs": [
    {
     "name": "stdout",
     "output_type": "stream",
     "text": [
      "Accuracy:  0.8866637114738724\n"
     ]
    }
   ],
   "source": [
    "# evaluate the algorithm with a test set \n",
    "lr_score = lr.score(...)###completez  # train test \n",
    "print(\"Accuracy: \", lr_score)"
   ]
  },
  {
   "cell_type": "markdown",
   "metadata": {},
   "source": [
    "Calcule du R2"
   ]
  },
  {
   "cell_type": "code",
   "execution_count": 22,
   "metadata": {
    "execution": {
     "iopub.execute_input": "2022-03-16T15:49:21.806093Z",
     "iopub.status.busy": "2022-03-16T15:49:21.805430Z",
     "iopub.status.idle": "2022-03-16T15:49:22.075951Z",
     "shell.execute_reply": "2022-03-16T15:49:21.988592Z",
     "shell.execute_reply.started": "2022-03-16T15:49:21.806066Z"
    }
   },
   "outputs": [
    {
     "name": "stdout",
     "output_type": "stream",
     "text": [
      "R2:  0.8178526186867096\n"
     ]
    }
   ],
   "source": [
    "lr_cv = cross_val_score(lr, X, y, cv = 5, scoring= 'r2')\n",
    "print(\"R2: \", lr_cv.mean())"
   ]
  },
  {
   "cell_type": "markdown",
   "metadata": {},
   "source": [
    "- Regularization : Complétez les lignes de code ci-dessous"
   ]
  },
  {
   "cell_type": "markdown",
   "metadata": {},
   "source": [
    "## Ridge Regression"
   ]
  },
  {
   "cell_type": "code",
   "execution_count": 24,
   "metadata": {
    "execution": {
     "iopub.execute_input": "2022-03-16T15:51:34.350117Z",
     "iopub.status.busy": "2022-03-16T15:51:34.349601Z",
     "iopub.status.idle": "2022-03-16T15:51:35.374045Z",
     "shell.execute_reply": "2022-03-16T15:51:35.373334Z",
     "shell.execute_reply.started": "2022-03-16T15:51:34.350086Z"
    }
   },
   "outputs": [
    {
     "name": "stdout",
     "output_type": "stream",
     "text": [
      "Cross-validation results:  [0.88428067 0.83605927 0.86144661 0.89217415 0.61559687]\n",
      "R2:  0.8179115118636047\n"
     ]
    }
   ],
   "source": [
    "ridge = Ridge(alpha = 1)  # sets alpha to a default value as baseline  \n",
    "ridge.fit(....)## Complétez\n",
    "\n",
    "ridge_cv = cross_val_score(ridge, X, y, cv = 5, scoring = 'r2')\n",
    "print (\"Cross-validation results: \", ridge_cv)\n",
    "print (\"R2: \", ridge_cv.mean())"
   ]
  },
  {
   "cell_type": "markdown",
   "metadata": {},
   "source": [
    "## Lasso Regression"
   ]
  },
  {
   "cell_type": "code",
   "execution_count": 26,
   "metadata": {
    "execution": {
     "iopub.execute_input": "2022-03-16T15:52:10.419895Z",
     "iopub.status.busy": "2022-03-16T15:52:10.419221Z",
     "iopub.status.idle": "2022-03-16T15:52:12.383328Z",
     "shell.execute_reply": "2022-03-16T15:52:12.382459Z",
     "shell.execute_reply.started": "2022-03-16T15:52:10.419868Z"
    }
   },
   "outputs": [
    {
     "name": "stderr",
     "output_type": "stream",
     "text": [
      "/opt/app-root/lib64/python3.8/site-packages/sklearn/linear_model/_coordinate_descent.py:647: ConvergenceWarning: Objective did not converge. You might want to increase the number of iterations, check the scale of the features or consider increasing regularisation. Duality gap: 1.012e+00, tolerance: 1.361e-02\n",
      "  model = cd_fast.enet_coordinate_descent(\n"
     ]
    },
    {
     "name": "stdout",
     "output_type": "stream",
     "text": [
      "Cross-validation results:  [0.88474308 0.83495207 0.8596755  0.8932596  0.61075654]\n",
      "R2:  0.8166773577482325\n"
     ]
    }
   ],
   "source": [
    "lasso = Lasso(alpha = .001)  # sets alpha to almost zero as baseline\n",
    "lasso.fit(...)## Compétez\n",
    "\n",
    "lasso_cv = cross_val_score(lasso, X, y, cv = 5, scoring = 'r2')\n",
    "print (\"Cross-validation results: \", lasso_cv)\n",
    "print (\"R2: \", lasso_cv.mean())"
   ]
  },
  {
   "cell_type": "markdown",
   "metadata": {},
   "source": [
    "- Comparez les valeurs de R2 de ces deux modèles. Que pouvez-vous conclure ? "
   ]
  },
  {
   "cell_type": "markdown",
   "metadata": {},
   "source": [
    "## Random Forest"
   ]
  },
  {
   "cell_type": "code",
   "execution_count": 27,
   "metadata": {
    "execution": {
     "iopub.execute_input": "2022-03-16T15:53:13.613472Z",
     "iopub.status.busy": "2022-03-16T15:53:13.612960Z",
     "iopub.status.idle": "2022-03-16T15:53:19.145880Z",
     "shell.execute_reply": "2022-03-16T15:53:19.145190Z",
     "shell.execute_reply.started": "2022-03-16T15:53:13.613434Z"
    }
   },
   "outputs": [
    {
     "name": "stdout",
     "output_type": "stream",
     "text": [
      "R2:  0.8618008867275243\n"
     ]
    }
   ],
   "source": [
    "#rfr = RandomForestRegressor(n_estimators = 100, max_depth = 5, min_samples_leaf= 5, max_features = 'sqrt')  # using GridSearch\n",
    "rfr = RandomForestRegressor()\n",
    "rfr.fit(....)## Complétez\n",
    "rfr_cv = cross_val_score(rfr,X, y, cv = 5, scoring = 'r2')\n",
    "print(\"R2: \", rfr_cv.mean())"
   ]
  },
  {
   "cell_type": "markdown",
   "metadata": {},
   "source": [
    "- Ce dernier modèle est-il meilleur que les trois premiers ? Pourquoi ?"
   ]
  },
  {
   "cell_type": "markdown",
   "metadata": {},
   "source": [
    "# Plotting the Feature Importance\n",
    "\n",
    "Visualiser les variables les plus influentes dans la prédiction de la variable cible"
   ]
  },
  {
   "cell_type": "code",
   "execution_count": 29,
   "metadata": {
    "execution": {
     "iopub.execute_input": "2022-03-16T15:55:39.388272Z",
     "iopub.status.busy": "2022-03-16T15:55:39.387606Z",
     "iopub.status.idle": "2022-03-16T15:55:39.404744Z",
     "shell.execute_reply": "2022-03-16T15:55:39.404045Z",
     "shell.execute_reply.started": "2022-03-16T15:55:39.388234Z"
    }
   },
   "outputs": [
    {
     "data": {
      "text/plain": [
       "array([7.08825066e-03, 3.12387061e-03, 1.15773066e-02, 1.96720501e-02,\n",
       "       5.84484336e-01, 1.60774119e-02, 1.41800568e-02, 2.78365473e-02,\n",
       "       3.01334701e-03, 1.88101424e-02, 5.67842047e-04, 6.93496215e-03,\n",
       "       4.01921098e-02, 3.04471098e-02, 1.12745203e-02, 3.08260022e-05,\n",
       "       8.34996773e-02, 1.12774895e-03, 1.50797846e-04, 7.94292159e-03,\n",
       "       1.01387206e-03, 1.95615403e-03, 1.34424671e-03, 4.10917695e-03,\n",
       "       4.22822084e-03, 9.22240649e-03, 4.81571719e-02, 1.83235611e-02,\n",
       "       4.91113443e-03, 6.28307730e-03, 3.28058111e-03, 1.78188588e-04,\n",
       "       7.99254098e-04, 2.17987030e-04, 5.31816350e-04, 4.90920061e-03,\n",
       "       2.50211466e-03])"
      ]
     },
     "execution_count": 29,
     "metadata": {},
     "output_type": "execute_result"
    }
   ],
   "source": [
    "# Random forest determined feature importances\n",
    "rfr.feature_importances_"
   ]
  },
  {
   "cell_type": "markdown",
   "metadata": {
    "execution": {
     "iopub.execute_input": "2022-03-16T15:56:09.928463Z",
     "iopub.status.busy": "2022-03-16T15:56:09.928092Z",
     "iopub.status.idle": "2022-03-16T15:56:09.932574Z",
     "shell.execute_reply": "2022-03-16T15:56:09.931779Z",
     "shell.execute_reply.started": "2022-03-16T15:56:09.928433Z"
    }
   },
   "source": [
    "- Compilez simplement la cellule ci-dessous"
   ]
  },
  {
   "cell_type": "code",
   "execution_count": 32,
   "metadata": {
    "execution": {
     "iopub.execute_input": "2022-03-16T15:56:20.028845Z",
     "iopub.status.busy": "2022-03-16T15:56:20.028501Z",
     "iopub.status.idle": "2022-03-16T15:56:20.045826Z",
     "shell.execute_reply": "2022-03-16T15:56:20.045200Z",
     "shell.execute_reply.started": "2022-03-16T15:56:20.028808Z"
    }
   },
   "outputs": [],
   "source": [
    "importance = rfr.feature_importances_\n",
    "\n",
    "# map feature importance values to the features\n",
    "feature_importances = zip(importance, X.columns)\n",
    "#list(feature_importances)\n",
    "\n",
    "sorted_feature_importances = sorted(feature_importances, reverse = True)\n",
    "#print(sorted_feature_importances)\n",
    "\n",
    "top_15_predictors = sorted_feature_importances[0:15]\n",
    "values = [value for value, predictors in top_15_predictors]\n",
    "predictors = [predictors for value, predictors in top_15_predictors]"
   ]
  },
  {
   "cell_type": "markdown",
   "metadata": {
    "execution": {
     "iopub.execute_input": "2022-03-16T15:57:28.008802Z",
     "iopub.status.busy": "2022-03-16T15:57:28.008112Z",
     "iopub.status.idle": "2022-03-16T15:57:28.012745Z",
     "shell.execute_reply": "2022-03-16T15:57:28.011976Z",
     "shell.execute_reply.started": "2022-03-16T15:57:28.008769Z"
    }
   },
   "source": [
    "- Visualisez dans un diagramme en barre les résultats de la cellule précédente.\n",
    "\n",
    "NB: Utilisez matplotlib"
   ]
  },
  {
   "cell_type": "code",
   "execution_count": 36,
   "metadata": {
    "execution": {
     "iopub.execute_input": "2022-03-16T15:58:12.405185Z",
     "iopub.status.busy": "2022-03-16T15:58:12.404860Z",
     "iopub.status.idle": "2022-03-16T15:58:12.408287Z",
     "shell.execute_reply": "2022-03-16T15:58:12.407705Z",
     "shell.execute_reply.started": "2022-03-16T15:58:12.405156Z"
    }
   },
   "outputs": [],
   "source": [
    "# Visualisez\n"
   ]
  },
  {
   "cell_type": "markdown",
   "metadata": {},
   "source": [
    "# Conclusion"
   ]
  },
  {
   "cell_type": "markdown",
   "metadata": {},
   "source": [
    "Que pouvez-vous tirer comme conclusion :\n",
    "\n",
    "    - quel est le meilleur modèle pour prédire le prix de la maison ?\n",
    "\n",
    "    - Quelles sont les variables à retenir pour prédire le prix d'une maison ?"
   ]
  },
  {
   "cell_type": "code",
   "execution_count": null,
   "metadata": {},
   "outputs": [],
   "source": []
  }
 ],
 "metadata": {
  "anaconda-cloud": {},
  "kernelspec": {
   "display_name": "Python 3 (ipykernel)",
   "language": "python",
   "name": "python3"
  },
  "language_info": {
   "codemirror_mode": {
    "name": "ipython",
    "version": 3
   },
   "file_extension": ".py",
   "mimetype": "text/x-python",
   "name": "python",
   "nbconvert_exporter": "python",
   "pygments_lexer": "ipython3",
   "version": "3.8.11"
  }
 },
 "nbformat": 4,
 "nbformat_minor": 4
}
